{
 "cells": [
  {
   "cell_type": "markdown",
   "metadata": {
    "colab_type": "text",
    "id": "G7iwjm-sXIcl"
   },
   "source": [
    "# 作業 3\n",
    "\n",
    "本作業需要先學習[程式教材](https://github.com/IKMLab/course_material)中的以下部份：\n",
    "\n",
    "- [jupyter-基本功能](https://github.com/IKMLab/course_material/blob/master/jupyter-%E5%9F%BA%E6%9C%AC%E5%8A%9F%E8%83%BD.ipynb)\n",
    "- [python-入門語法](https://github.com/IKMLab/course_material/blob/master/python-%E5%85%A5%E9%96%80%E8%AA%9E%E6%B3%95.ipynb)\n",
    "- [numpy-基本功能](https://github.com/IKMLab/course_material/blob/master/numpy-%E5%9F%BA%E6%9C%AC%E5%8A%9F%E8%83%BD.ipynb)\n",
    "- [pandas-基本功能](https://github.com/IKMLab/course_material/blob/master/pandas-%E5%9F%BA%E6%9C%AC%E5%8A%9F%E8%83%BD.ipynb)\n",
    "- [matplotlib-資料視覺化](https://github.com/IKMLab/course_material/blob/master/matplotlib-%E8%B3%87%E6%96%99%E8%A6%96%E8%A6%BA%E5%8C%96.ipynb)\n",
    "- [scikit-learn-基本功能](https://github.com/IKMLab/course_material/blob/master/scikit-learn-%E5%9F%BA%E6%9C%AC%E5%8A%9F%E8%83%BD.ipynb)"
   ]
  },
  {
   "cell_type": "markdown",
   "metadata": {
    "colab_type": "text",
    "id": "-gfsjbLmXIco"
   },
   "source": [
    "## 環境\n",
    "\n",
    "請填寫當前執行使用的環境。\n",
    "\n",
    "|環境|名稱|版本|\n",
    "|-|-|-|\n",
    "|作業系統|Windows 10|1909 18363.815|\n",
    "|程式執行環境|jupyter notebook|1.0.0|\n",
    "|python 版本|python3|3.7.7|\n",
    "|安裝環境|pip|20.0.2|"
   ]
  },
  {
   "cell_type": "markdown",
   "metadata": {
    "colab_type": "text",
    "id": "C2IbKfeBXIco"
   },
   "source": [
    "## 安裝\n",
    "\n",
    "請填寫安裝套件需要的指令\n",
    "\n",
    "```sh\n",
    "pip install -r requirements.txt\n",
    "```"
   ]
  },
  {
   "cell_type": "markdown",
   "metadata": {
    "colab_type": "text",
    "id": "x7C7d86UXIcp"
   },
   "source": [
    "## 計算資源\n",
    "\n",
    "請填寫執行程式所需要的計算資源，請確保所有資源限制在單一個人桌上型電腦且能夠以總市價低於 5 萬的手段取得。\n",
    "\n",
    "|計算資源|答案|\n",
    "|-|-|\n",
    "|使用 CPU 核心數|1|\n",
    "|記憶體需求|$\\leq 1$GB|\n",
    "|有無使用 GPU|無|\n",
    "|GPU 版本|無|\n",
    "|GPU 記憶體需求|$\\leq 1$GB|"
   ]
  },
  {
   "cell_type": "markdown",
   "metadata": {
    "colab_type": "text",
    "id": "vM-HKhI7XIcp"
   },
   "source": [
    "## 參考連結\n",
    "\n",
    "- 有無參考他人之實驗結果：有\n",
    "- 參考連結：\n",
    "  "
   ]
  },
  {
   "cell_type": "code",
   "execution_count": 1,
   "metadata": {
    "colab": {},
    "colab_type": "code",
    "id": "uuEehRwyXIcq"
   },
   "outputs": [],
   "source": [
    "import time\n",
    "import numpy as np\n",
    "import pandas as pd\n",
    "\n",
    "df = pd.read_csv('train.csv')      # 讀取資料，請勿更改路徑\n",
    "df2 = pd.read_csv('test.csv')      # 讀取資料，請勿更改路徑"
   ]
  },
  {
   "cell_type": "code",
   "execution_count": 2,
   "metadata": {
    "colab": {},
    "colab_type": "code",
    "id": "cwPaVAUVXIcu"
   },
   "outputs": [],
   "source": [
    "# 匯入 matplotlib\n",
    "# matplotlib.pyplot 是主要用於繪圖的模組\n",
    "import matplotlib.pyplot as plt\n",
    "\n",
    "# 匯入 seaborn\n",
    "import seaborn as sns"
   ]
  },
  {
   "cell_type": "markdown",
   "metadata": {
    "colab_type": "text",
    "id": "I8oFhuozXIcw"
   },
   "source": [
    "## 資料分析與前處理\n",
    "\n",
    "請在此區塊後使用**一個或多個區塊**進行資料分析與前處理，項目可以包含：\n",
    "\n",
    "- 資料視覺化\n",
    "- 相關係數\n",
    "- 決定輸入特徵\n",
    "- 處理缺失值\n",
    "- 轉換數值\n",
    "- 轉換類別\n",
    "- 其他\n",
    "\n",
    "請以 `markdown` 簡單描述**流程**、**方法**與**原因**：\n",
    "\n",
    "1. 觀察...，發現...\n",
    "2. 填補...，策略...\n",
    "3. 轉換...，原因...\n",
    "\n"
   ]
  },
  {
   "cell_type": "markdown",
   "metadata": {
    "colab_type": "text",
    "id": "p7sE9XoBcakB"
   },
   "source": [
    "### 資料集標籤含意\n",
    "- Date: 日期\n",
    "- Open Price: 開盤價格\n",
    "- Close Price: 收盤價格\n",
    "- High Price: 股價最高價格\n",
    "- Low Price: 股價最高價格"
   ]
  },
  {
   "cell_type": "code",
   "execution_count": 3,
   "metadata": {
    "colab": {
     "base_uri": "https://localhost:8080/",
     "height": 569
    },
    "colab_type": "code",
    "executionInfo": {
     "elapsed": 898,
     "status": "ok",
     "timestamp": 1589885231365,
     "user": {
      "displayName": "C44051037謝達永",
      "photoUrl": "",
      "userId": "12043269558150902284"
     },
     "user_tz": -480
    },
    "id": "lw8d1emQXIcx",
    "outputId": "f962516e-b750-49a1-f1dd-70384b228105"
   },
   "outputs": [
    {
     "name": "stdout",
     "output_type": "stream",
     "text": [
      "<class 'pandas.core.frame.DataFrame'>\n",
      "RangeIndex: 2264 entries, 0 to 2263\n",
      "Data columns (total 6 columns):\n",
      " #   Column       Non-Null Count  Dtype  \n",
      "---  ------       --------------  -----  \n",
      " 0   Date         2264 non-null   object \n",
      " 1   Open Price   2264 non-null   float64\n",
      " 2   Close Price  2264 non-null   float64\n",
      " 3   High Price   2264 non-null   float64\n",
      " 4   Low Price    2264 non-null   float64\n",
      " 5   Volume       2264 non-null   int64  \n",
      "dtypes: float64(4), int64(1), object(1)\n",
      "memory usage: 106.2+ KB\n"
     ]
    },
    {
     "data": {
      "text/html": [
       "<div>\n",
       "<style scoped>\n",
       "    .dataframe tbody tr th:only-of-type {\n",
       "        vertical-align: middle;\n",
       "    }\n",
       "\n",
       "    .dataframe tbody tr th {\n",
       "        vertical-align: top;\n",
       "    }\n",
       "\n",
       "    .dataframe thead th {\n",
       "        text-align: right;\n",
       "    }\n",
       "</style>\n",
       "<table border=\"1\" class=\"dataframe\">\n",
       "  <thead>\n",
       "    <tr style=\"text-align: right;\">\n",
       "      <th></th>\n",
       "      <th>Date</th>\n",
       "      <th>Open Price</th>\n",
       "      <th>Close Price</th>\n",
       "      <th>High Price</th>\n",
       "      <th>Low Price</th>\n",
       "      <th>Volume</th>\n",
       "    </tr>\n",
       "  </thead>\n",
       "  <tbody>\n",
       "    <tr>\n",
       "      <th>0</th>\n",
       "      <td>02-Jan-2009</td>\n",
       "      <td>902.99</td>\n",
       "      <td>931.80</td>\n",
       "      <td>934.73</td>\n",
       "      <td>899.35</td>\n",
       "      <td>4048270080</td>\n",
       "    </tr>\n",
       "    <tr>\n",
       "      <th>1</th>\n",
       "      <td>05-Jan-2009</td>\n",
       "      <td>929.17</td>\n",
       "      <td>927.45</td>\n",
       "      <td>936.63</td>\n",
       "      <td>919.53</td>\n",
       "      <td>5413910016</td>\n",
       "    </tr>\n",
       "    <tr>\n",
       "      <th>2</th>\n",
       "      <td>06-Jan-2009</td>\n",
       "      <td>931.17</td>\n",
       "      <td>934.70</td>\n",
       "      <td>943.85</td>\n",
       "      <td>927.28</td>\n",
       "      <td>5392620032</td>\n",
       "    </tr>\n",
       "    <tr>\n",
       "      <th>3</th>\n",
       "      <td>07-Jan-2009</td>\n",
       "      <td>927.45</td>\n",
       "      <td>906.65</td>\n",
       "      <td>927.45</td>\n",
       "      <td>902.37</td>\n",
       "      <td>4704940032</td>\n",
       "    </tr>\n",
       "    <tr>\n",
       "      <th>4</th>\n",
       "      <td>08-Jan-2009</td>\n",
       "      <td>905.73</td>\n",
       "      <td>909.73</td>\n",
       "      <td>910.00</td>\n",
       "      <td>896.81</td>\n",
       "      <td>4991549952</td>\n",
       "    </tr>\n",
       "    <tr>\n",
       "      <th>5</th>\n",
       "      <td>09-Jan-2009</td>\n",
       "      <td>909.91</td>\n",
       "      <td>890.35</td>\n",
       "      <td>911.93</td>\n",
       "      <td>888.31</td>\n",
       "      <td>4716499968</td>\n",
       "    </tr>\n",
       "    <tr>\n",
       "      <th>6</th>\n",
       "      <td>12-Jan-2009</td>\n",
       "      <td>890.40</td>\n",
       "      <td>870.26</td>\n",
       "      <td>890.40</td>\n",
       "      <td>864.32</td>\n",
       "      <td>4725049856</td>\n",
       "    </tr>\n",
       "    <tr>\n",
       "      <th>7</th>\n",
       "      <td>13-Jan-2009</td>\n",
       "      <td>869.79</td>\n",
       "      <td>871.79</td>\n",
       "      <td>877.02</td>\n",
       "      <td>862.02</td>\n",
       "      <td>5017469952</td>\n",
       "    </tr>\n",
       "    <tr>\n",
       "      <th>8</th>\n",
       "      <td>14-Jan-2009</td>\n",
       "      <td>867.28</td>\n",
       "      <td>842.62</td>\n",
       "      <td>867.28</td>\n",
       "      <td>836.93</td>\n",
       "      <td>5407880192</td>\n",
       "    </tr>\n",
       "    <tr>\n",
       "      <th>9</th>\n",
       "      <td>15-Jan-2009</td>\n",
       "      <td>841.99</td>\n",
       "      <td>843.74</td>\n",
       "      <td>851.59</td>\n",
       "      <td>817.04</td>\n",
       "      <td>7807350272</td>\n",
       "    </tr>\n",
       "  </tbody>\n",
       "</table>\n",
       "</div>"
      ],
      "text/plain": [
       "          Date  Open Price  Close Price  High Price  Low Price      Volume\n",
       "0  02-Jan-2009      902.99       931.80      934.73     899.35  4048270080\n",
       "1  05-Jan-2009      929.17       927.45      936.63     919.53  5413910016\n",
       "2  06-Jan-2009      931.17       934.70      943.85     927.28  5392620032\n",
       "3  07-Jan-2009      927.45       906.65      927.45     902.37  4704940032\n",
       "4  08-Jan-2009      905.73       909.73      910.00     896.81  4991549952\n",
       "5  09-Jan-2009      909.91       890.35      911.93     888.31  4716499968\n",
       "6  12-Jan-2009      890.40       870.26      890.40     864.32  4725049856\n",
       "7  13-Jan-2009      869.79       871.79      877.02     862.02  5017469952\n",
       "8  14-Jan-2009      867.28       842.62      867.28     836.93  5407880192\n",
       "9  15-Jan-2009      841.99       843.74      851.59     817.04  7807350272"
      ]
     },
     "execution_count": 3,
     "metadata": {},
     "output_type": "execute_result"
    }
   ],
   "source": [
    "df.info()\n",
    "df.head(10)"
   ]
  },
  {
   "cell_type": "markdown",
   "metadata": {
    "colab_type": "text",
    "id": "QCUHeYVdXIc1"
   },
   "source": [
    "### 資料選取\n"
   ]
  },
  {
   "cell_type": "markdown",
   "metadata": {
    "colab_type": "text",
    "id": "p9nXwqj2XIc_"
   },
   "source": [
    "### 資料前處理\n"
   ]
  },
  {
   "cell_type": "code",
   "execution_count": 4,
   "metadata": {
    "colab": {},
    "colab_type": "code",
    "id": "qLhHYrXpXIdA"
   },
   "outputs": [],
   "source": [
    "from sklearn.impute import SimpleImputer       # 匯入填補缺失值的工具\n",
    "from sklearn.preprocessing import LabelEncoder # 匯入 Label Encoder"
   ]
  },
  {
   "cell_type": "code",
   "execution_count": 5,
   "metadata": {
    "colab": {
     "base_uri": "https://localhost:8080/",
     "height": 202
    },
    "colab_type": "code",
    "executionInfo": {
     "elapsed": 883,
     "status": "ok",
     "timestamp": 1589885231367,
     "user": {
      "displayName": "C44051037謝達永",
      "photoUrl": "",
      "userId": "12043269558150902284"
     },
     "user_tz": -480
    },
    "id": "yD2qEXxmg-qp",
    "outputId": "4cbcbe4b-d348-42ba-8ef8-cb1feb98de1b"
   },
   "outputs": [
    {
     "name": "stdout",
     "output_type": "stream",
     "text": [
      "<class 'pandas.core.frame.DataFrame'>\n",
      "RangeIndex: 2264 entries, 0 to 2263\n",
      "Data columns (total 4 columns):\n",
      " #   Column       Non-Null Count  Dtype  \n",
      "---  ------       --------------  -----  \n",
      " 0   Open Price   2264 non-null   float64\n",
      " 1   Close Price  2264 non-null   float64\n",
      " 2   High Price   2264 non-null   float64\n",
      " 3   Low Price    2264 non-null   float64\n",
      "dtypes: float64(4)\n",
      "memory usage: 70.9 KB\n"
     ]
    }
   ],
   "source": [
    "# 訓練資料前處理\n",
    "train_x_1 = df[['Open Price', 'Close Price', 'High Price', 'Low Price']]                   # 取出訓練資料需要分析的資料欄位\n",
    "train_x_1.info()\n",
    "# train_x_1.head(10)\n",
    "train_y_1 = df['Close Price'].copy()\n",
    "for i in range(len(df.index)-1, -1, -1):\n",
    "    if i == 0:\n",
    "        train_y_1[i] = 1\n",
    "    elif train_y_1[i]>=train_y_1[i-1]:\n",
    "        train_y_1[i] = 1\n",
    "    else:\n",
    "        train_y_1[i] = 0"
   ]
  },
  {
   "cell_type": "code",
   "execution_count": 6,
   "metadata": {},
   "outputs": [
    {
     "name": "stdout",
     "output_type": "stream",
     "text": [
      "<class 'pandas.core.frame.DataFrame'>\n",
      "RangeIndex: 252 entries, 0 to 251\n",
      "Data columns (total 4 columns):\n",
      " #   Column       Non-Null Count  Dtype  \n",
      "---  ------       --------------  -----  \n",
      " 0   Open Price   252 non-null    float64\n",
      " 1   Close Price  252 non-null    float64\n",
      " 2   High Price   252 non-null    float64\n",
      " 3   Low Price    252 non-null    float64\n",
      "dtypes: float64(4)\n",
      "memory usage: 8.0 KB\n"
     ]
    }
   ],
   "source": [
    "# 測試資料前處理\n",
    "test_x = df2[['Open Price', 'Close Price', 'High Price', 'Low Price']]                   # 取出訓練資料需要分析的資料欄位\n",
    "test_x.info()\n",
    "test_y = df2['Close Price'].copy()\n",
    "for i in range(len(df2.index)-1, -1, -1):\n",
    "    if i == 0:\n",
    "        test_y[i] = 1\n",
    "    elif test_y[i]>=test_y[i-1]:\n",
    "        test_y[i] = 1\n",
    "    else:\n",
    "        test_y[i] = 0"
   ]
  },
  {
   "cell_type": "markdown",
   "metadata": {
    "colab_type": "text",
    "id": "eSW1BjxnXIdC"
   },
   "source": [
    "大部分都不需要經過處理即可使用"
   ]
  },
  {
   "cell_type": "markdown",
   "metadata": {
    "colab_type": "text",
    "id": "KxlhR8DOXIdN"
   },
   "source": [
    "## 模型訓練\n",
    "\n",
    "請在此區塊後使用**一個或多個區塊**進行模型訓練，**需要**包含以下內容：\n",
    "\n",
    "- **選擇模型**\n",
    "    - 設定模型**超參數**\n",
    "    - **控制隨機亂數**\n",
    "- 計算**準確度（Accuracy）**\n",
    "    - 使用 **5-fold cross validation**，輸出**平均準確度**\n",
    "    - 最後再使用**所有**資料進行訓練並輸出**準確度**\n",
    "    - 準確度必須**超越**課堂使用的範例\n",
    "    \n",
    "如果有進行多於一個以上的實驗，**可以保留所有**的實驗結果，但是執行時間將會納入**全部**實驗。"
   ]
  },
  {
   "cell_type": "code",
   "execution_count": 7,
   "metadata": {
    "colab": {},
    "colab_type": "code",
    "id": "VaGnGkE0XIdO"
   },
   "outputs": [],
   "source": [
    "from sklearn.model_selection import KFold             # 匯入 K 次交叉驗證工具\n",
    "from sklearn.metrics import accuracy_score            # 匯入準確度計算工具\n",
    "\n",
    "from sklearn.tree import DecisionTreeClassifier       # 匯入決策樹模型\n",
    "from sklearn.linear_model import LogisticRegression\n",
    "from sklearn.neural_network import MLPClassifier\n",
    "from sklearn.neighbors import KNeighborsClassifier\n",
    "\n",
    "from sklearn.tree import plot_tree              # 匯入決策樹繪圖工具\n"
   ]
  },
  {
   "cell_type": "code",
   "execution_count": 8,
   "metadata": {
    "colab": {
     "base_uri": "https://localhost:8080/",
     "height": 373
    },
    "colab_type": "code",
    "executionInfo": {
     "elapsed": 867,
     "status": "error",
     "timestamp": 1589885231369,
     "user": {
      "displayName": "C44051037謝達永",
      "photoUrl": "",
      "userId": "12043269558150902284"
     },
     "user_tz": -480
    },
    "id": "cViqvXqqXIdS",
    "outputId": "52adbc62-a40e-4d81-aec7-30b32b7c105f"
   },
   "outputs": [
    {
     "name": "stdout",
     "output_type": "stream",
     "text": [
      "average train accuracy: 1.0\n",
      "    min train accuracy: 1.0\n",
      "    max train accuracy: 1.0\n",
      "average valid accuracy: 0.7623649612221376\n",
      "    min valid accuracy: 0.7350993377483444\n",
      "    max valid accuracy: 0.7880794701986755\n",
      "average test accuracy: 0.5769841269841269\n",
      "    min test accuracy: 0.5198412698412699\n",
      "    max test accuracy: 0.623015873015873\n"
     ]
    }
   ],
   "source": [
    "# 決策樹模型訓練\n",
    "# 設定KFold\n",
    "kf = KFold(n_splits=5,                                # 設定 K 值\n",
    "           random_state=1012,\n",
    "           shuffle=True)\n",
    "kf.get_n_splits(train_x_1)                              # 給予資料範圍\n",
    "\n",
    "train_acc_list = []                                   # 儲存每次訓練模型的準確度\n",
    "valid_acc_list = []                                   # 儲存每次驗證模型的準確度\n",
    "test_acc_list = []                                   # 儲存每次驗證模型的準確度\n",
    "\n",
    "for train_index, valid_index in kf.split(train_x_1):    # 每個迴圈都會產生不同部份的資料\n",
    "    train_x_split = train_x_1.iloc[train_index]         # 產生訓練資料\n",
    "    train_y_split = train_y_1.iloc[train_index]         # 產生訓練資料標籤\n",
    "    valid_x_split = train_x_1.iloc[valid_index]         # 產生驗證資料\n",
    "    valid_y_split = train_y_1.iloc[valid_index]         # 產生驗證資料標籤\n",
    "    model = DecisionTreeClassifier(random_state=1012) # 創造決策樹模型\n",
    "    model.fit(train_x_split, train_y_split)           # 訓練決策樹模型\n",
    "    \n",
    "    train_pred_y = model.predict(train_x_split)       # 確認模型是否訓練成功\n",
    "    train_acc = accuracy_score(train_y_split,         # 計算訓練資料準確度\n",
    "                               train_pred_y)\n",
    "    valid_pred_y = model.predict(valid_x_split)       # 驗證模型是否訓練成功\n",
    "    valid_acc = accuracy_score(valid_y_split,         # 計算驗證資料準確度\n",
    "                               valid_pred_y)\n",
    "    \n",
    "    test_pred_y = model.predict(test_x)       # 確認模型是否訓練成功\n",
    "    test_acc = accuracy_score(test_y,         # 計算訓練資料準確度\n",
    "                               test_pred_y)\n",
    "    \n",
    "    train_acc_list.append(train_acc)\n",
    "    valid_acc_list.append(valid_acc)\n",
    "    test_acc_list.append(test_acc)\n",
    "    \n",
    "    \n",
    "print((\n",
    "    'average train accuracy: {}\\n' +\n",
    "    '    min train accuracy: {}\\n' +\n",
    "    '    max train accuracy: {}\\n' +\n",
    "    'average valid accuracy: {}\\n' +\n",
    "    '    min valid accuracy: {}\\n' +\n",
    "    '    max valid accuracy: {}\\n'+\n",
    "    'average test accuracy: {}\\n' +\n",
    "    '    min test accuracy: {}\\n' +\n",
    "    '    max test accuracy: {}').format(\n",
    "    np.mean(train_acc_list),                        # 輸出平均訓練準確度\n",
    "    np.min(train_acc_list),                           # 輸出最低訓練準確度\n",
    "    np.max(train_acc_list),                           # 輸出最高訓練準確度\n",
    "    np.mean(valid_acc_list),                        # 輸出平均驗證準確度\n",
    "    np.min(valid_acc_list),                           # 輸出最低驗證準確度\n",
    "    np.max(valid_acc_list),                           # 輸出最高驗證準確度\n",
    "    np.mean(test_acc_list),                        # 輸出平均驗證準確度\n",
    "    np.min(test_acc_list),                           # 輸出最低驗證準確度\n",
    "    np.max(test_acc_list)                            # 輸出最高驗證準確度\n",
    "))\n",
    "\n",
    "# fig, ax = plt.subplots(figsize=(15, 15))        # 創造繪圖環境\n",
    "# plot_tree(model, ax=ax)                         # 繪製訓練後的模型\n",
    "# plt.show()                                      # 繪製圖表"
   ]
  },
  {
   "cell_type": "code",
   "execution_count": 9,
   "metadata": {},
   "outputs": [
    {
     "name": "stdout",
     "output_type": "stream",
     "text": [
      "average train accuracy: 0.9399290331467132\n",
      "    min train accuracy: 0.9353948094975152\n",
      "    max train accuracy: 0.9426048565121413\n",
      "average valid accuracy: 0.9368331086756921\n",
      "    min valid accuracy: 0.9269911504424779\n",
      "    max valid accuracy: 0.9514348785871964\n",
      "average test accuracy: 0.8214285714285714\n",
      "    min test accuracy: 0.8174603174603174\n",
      "    max test accuracy: 0.8253968253968254\n"
     ]
    }
   ],
   "source": [
    "# LogisticRegression模型訓練\n",
    "# 設定KFold\n",
    "kf = KFold(n_splits=5,                                # 設定 K 值\n",
    "           random_state=1012,\n",
    "           shuffle=True)\n",
    "kf.get_n_splits(train_x_1)                              # 給予資料範圍\n",
    "\n",
    "train_acc_list_2 = []                                   # 儲存每次訓練模型的準確度\n",
    "valid_acc_list_2 = []                                   # 儲存每次驗證模型的準確度\n",
    "test_acc_list_2 = []                                   # 儲存每次驗證模型的準確度\n",
    "\n",
    "for train_index, valid_index in kf.split(train_x_1):    # 每個迴圈都會產生不同部份的資料\n",
    "    train_x_split = train_x_1.iloc[train_index]         # 產生訓練資料\n",
    "    train_y_split = train_y_1.iloc[train_index]         # 產生訓練資料標籤\n",
    "    valid_x_split = train_x_1.iloc[valid_index]         # 產生驗證資料\n",
    "    valid_y_split = train_y_1.iloc[valid_index]         # 產生驗證資料標籤\n",
    "    model2 = LogisticRegression() # 創造決策樹模型\n",
    "    model2.fit(train_x_split, train_y_split)           # 訓練決策樹模型\n",
    "    \n",
    "    train_pred_y = model2.predict(train_x_split)       # 確認模型是否訓練成功\n",
    "    train_acc = accuracy_score(train_y_split,         # 計算訓練資料準確度\n",
    "                               train_pred_y)\n",
    "    valid_pred_y = model2.predict(valid_x_split)       # 驗證模型是否訓練成功\n",
    "    valid_acc = accuracy_score(valid_y_split,         # 計算驗證資料準確度\n",
    "                               valid_pred_y)\n",
    "    \n",
    "    test_pred_y = model2.predict(test_x)       # 確認模型是否訓練成功\n",
    "    test_acc = accuracy_score(test_y,         # 計算訓練資料準確度\n",
    "                               test_pred_y)\n",
    "    \n",
    "    train_acc_list_2.append(train_acc)\n",
    "    valid_acc_list_2.append(valid_acc)\n",
    "    test_acc_list_2.append(test_acc)\n",
    "    \n",
    "    \n",
    "print((\n",
    "    'average train accuracy: {}\\n' +\n",
    "    '    min train accuracy: {}\\n' +\n",
    "    '    max train accuracy: {}\\n' +\n",
    "    'average valid accuracy: {}\\n' +\n",
    "    '    min valid accuracy: {}\\n' +\n",
    "    '    max valid accuracy: {}\\n'+\n",
    "    'average test accuracy: {}\\n' +\n",
    "    '    min test accuracy: {}\\n' +\n",
    "    '    max test accuracy: {}').format(\n",
    "    np.mean(train_acc_list_2),                        # 輸出平均訓練準確度\n",
    "    np.min(train_acc_list_2),                           # 輸出最低訓練準確度\n",
    "    np.max(train_acc_list_2),                           # 輸出最高訓練準確度\n",
    "    np.mean(valid_acc_list_2),                        # 輸出平均驗證準確度\n",
    "    np.min(valid_acc_list_2),                           # 輸出最低驗證準確度\n",
    "    np.max(valid_acc_list_2),                           # 輸出最高驗證準確度\n",
    "    np.mean(test_acc_list_2),                        # 輸出平均驗證準確度\n",
    "    np.min(test_acc_list_2),                           # 輸出最低驗證準確度\n",
    "    np.max(test_acc_list_2)                            # 輸出最高驗證準確度\n",
    "))"
   ]
  },
  {
   "cell_type": "code",
   "execution_count": 41,
   "metadata": {},
   "outputs": [
    {
     "name": "stdout",
     "output_type": "stream",
     "text": [
      "average train accuracy: 0.5183240632728859\n",
      "    min train accuracy: 0.4605190502484815\n",
      "    max train accuracy: 0.57560706401766\n",
      "average valid accuracy: 0.52784191916232\n",
      "    min valid accuracy: 0.45695364238410596\n",
      "    max valid accuracy: 0.5717439293598234\n",
      "average test accuracy: 0.5134920634920634\n",
      "    min test accuracy: 0.4722222222222222\n",
      "    max test accuracy: 0.5476190476190477\n"
     ]
    }
   ],
   "source": [
    "# neural network模型訓練\n",
    "# 設定KFold\n",
    "kf = KFold(n_splits=5,                                # 設定 K 值\n",
    "           random_state=1012,\n",
    "           shuffle=True)\n",
    "kf.get_n_splits(train_x_1)                              # 給予資料範圍\n",
    "\n",
    "train_acc_list_3 = []                                   # 儲存每次訓練模型的準確度\n",
    "valid_acc_list_3 = []                                   # 儲存每次驗證模型的準確度\n",
    "test_acc_list_3 = []                                   # 儲存每次驗證模型的準確度\n",
    "\n",
    "for train_index, valid_index in kf.split(train_x_1):    # 每個迴圈都會產生不同部份的資料\n",
    "    train_x_split = train_x_1.iloc[train_index]         # 產生訓練資料\n",
    "    train_y_split = train_y_1.iloc[train_index]         # 產生訓練資料標籤\n",
    "    valid_x_split = train_x_1.iloc[valid_index]         # 產生驗證資料\n",
    "    valid_y_split = train_y_1.iloc[valid_index]         # 產生驗證資料標籤\n",
    "    model3 = MLPClassifier(activation = 'identity') # 創造決策樹模型\n",
    "    model3.fit(train_x_split, train_y_split)           # 訓練決策樹模型\n",
    "    \n",
    "    train_pred_y = model3.predict(train_x_split)       # 確認模型是否訓練成功\n",
    "    train_acc = accuracy_score(train_y_split,         # 計算訓練資料準確度\n",
    "                               train_pred_y)\n",
    "    valid_pred_y = model3.predict(valid_x_split)       # 驗證模型是否訓練成功\n",
    "    valid_acc = accuracy_score(valid_y_split,         # 計算驗證資料準確度\n",
    "                               valid_pred_y)\n",
    "    \n",
    "    test_pred_y = model3.predict(test_x)       # 確認模型是否訓練成功\n",
    "    test_acc = accuracy_score(test_y,         # 計算訓練資料準確度\n",
    "                               test_pred_y)\n",
    "    \n",
    "    train_acc_list_3.append(train_acc)\n",
    "    valid_acc_list_3.append(valid_acc)\n",
    "    test_acc_list_3.append(test_acc)\n",
    "    \n",
    "    \n",
    "print((\n",
    "    'average train accuracy: {}\\n' +\n",
    "    '    min train accuracy: {}\\n' +\n",
    "    '    max train accuracy: {}\\n' +\n",
    "    'average valid accuracy: {}\\n' +\n",
    "    '    min valid accuracy: {}\\n' +\n",
    "    '    max valid accuracy: {}\\n'+\n",
    "    'average test accuracy: {}\\n' +\n",
    "    '    min test accuracy: {}\\n' +\n",
    "    '    max test accuracy: {}').format(\n",
    "    np.mean(train_acc_list_3),                        # 輸出平均訓練準確度\n",
    "    np.min(train_acc_list_3),                           # 輸出最低訓練準確度\n",
    "    np.max(train_acc_list_3),                           # 輸出最高訓練準確度\n",
    "    np.mean(valid_acc_list_3),                        # 輸出平均驗證準確度\n",
    "    np.min(valid_acc_list_3),                           # 輸出最低驗證準確度\n",
    "    np.max(valid_acc_list_3),                           # 輸出最高驗證準確度\n",
    "    np.mean(test_acc_list_3),                        # 輸出平均驗證準確度\n",
    "    np.min(test_acc_list_3),                           # 輸出最低驗證準確度\n",
    "    np.max(test_acc_list_3)                            # 輸出最高驗證準確度\n",
    "))"
   ]
  },
  {
   "cell_type": "code",
   "execution_count": 43,
   "metadata": {
    "scrolled": true
   },
   "outputs": [
    {
     "name": "stdout",
     "output_type": "stream",
     "text": [
      "average train accuracy: 1.0\n",
      "    min train accuracy: 1.0\n",
      "    max train accuracy: 1.0\n",
      "average valid accuracy: 0.794165738732931\n",
      "    min valid accuracy: 0.7748344370860927\n",
      "    max valid accuracy: 0.8079470198675497\n",
      "average test accuracy: 0.6158730158730159\n",
      "    min test accuracy: 0.5515873015873016\n",
      "    max test accuracy: 0.7579365079365079\n"
     ]
    }
   ],
   "source": [
    "# KNN模型訓練\n",
    "# 設定KFold\n",
    "kf = KFold(n_splits=5,                                # 設定 K 值\n",
    "           random_state=1012,\n",
    "           shuffle=True)\n",
    "kf.get_n_splits(train_x_1)                              # 給予資料範圍\n",
    "\n",
    "train_acc_list_4 = []                                   # 儲存每次訓練模型的準確度\n",
    "valid_acc_list_4 = []                                   # 儲存每次驗證模型的準確度\n",
    "test_acc_list_4 = []                                   # 儲存每次驗證模型的準確度\n",
    "\n",
    "for train_index, valid_index in kf.split(train_x_1):    # 每個迴圈都會產生不同部份的資料\n",
    "    train_x_split = train_x_1.iloc[train_index]         # 產生訓練資料\n",
    "    train_y_split = train_y_1.iloc[train_index]         # 產生訓練資料標籤\n",
    "    valid_x_split = train_x_1.iloc[valid_index]         # 產生驗證資料\n",
    "    valid_y_split = train_y_1.iloc[valid_index]         # 產生驗證資料標籤\n",
    "    model4 = KNeighborsClassifier(n_neighbors=6, weights='distance') # 創造決策樹模型\n",
    "    model4.fit(train_x_split, train_y_split)           # 訓練決策樹模型\n",
    "    \n",
    "    train_pred_y = model4.predict(train_x_split)       # 確認模型是否訓練成功\n",
    "    train_acc = accuracy_score(train_y_split,         # 計算訓練資料準確度\n",
    "                               train_pred_y)\n",
    "    valid_pred_y = model4.predict(valid_x_split)       # 驗證模型是否訓練成功\n",
    "    valid_acc = accuracy_score(valid_y_split,         # 計算驗證資料準確度\n",
    "                               valid_pred_y)\n",
    "    \n",
    "    test_pred_y = model4.predict(test_x)       # 確認模型是否訓練成功\n",
    "    test_acc = accuracy_score(test_y,         # 計算訓練資料準確度\n",
    "                               test_pred_y)\n",
    "    \n",
    "    train_acc_list_4.append(train_acc)\n",
    "    valid_acc_list_4.append(valid_acc)\n",
    "    test_acc_list_4.append(test_acc)\n",
    "    \n",
    "    \n",
    "print((\n",
    "    'average train accuracy: {}\\n' +\n",
    "    '    min train accuracy: {}\\n' +\n",
    "    '    max train accuracy: {}\\n' +\n",
    "    'average valid accuracy: {}\\n' +\n",
    "    '    min valid accuracy: {}\\n' +\n",
    "    '    max valid accuracy: {}\\n'+\n",
    "    'average test accuracy: {}\\n' +\n",
    "    '    min test accuracy: {}\\n' +\n",
    "    '    max test accuracy: {}').format(\n",
    "    np.mean(train_acc_list_4),                        # 輸出平均訓練準確度\n",
    "    np.min(train_acc_list_4),                           # 輸出最低訓練準確度\n",
    "    np.max(train_acc_list_4),                           # 輸出最高訓練準確度\n",
    "    np.mean(valid_acc_list_4),                        # 輸出平均驗證準確度\n",
    "    np.min(valid_acc_list_4),                           # 輸出最低驗證準確度\n",
    "    np.max(valid_acc_list_4),                           # 輸出最高驗證準確度\n",
    "    np.mean(test_acc_list_4),                        # 輸出平均驗證準確度\n",
    "    np.min(test_acc_list_4),                           # 輸出最低驗證準確度\n",
    "    np.max(test_acc_list_4)                            # 輸出最高驗證準確度\n",
    "))"
   ]
  },
  {
   "attachments": {},
   "cell_type": "markdown",
   "metadata": {},
   "source": [
    "## Discussion\n",
    "- How did you preprocess this dataset ?\n",
    "        其實並不用太多的處理，主要是需要通過比較昨天與今天的\"close price\"來產生訓練模型的答案\n",
    "- Which classifier reaches the highest classification accuracy in this dataset ?\n",
    "        LogisticRegression\n",
    "    - Why ?\n",
    "            可能是因為其他方法並不能很好的去長期的分析股市的漲跌幅。\n",
    "            KNN會傾向尋找附近周遭的DATA去分析，但是K值取的不夠大的話，會無法看到完整的股市傾向。\n",
    "            neural network的部分，可能是他的function選項不太能fit股市的趨勢。\n",
    "    - Can this result remain if the dataset is different ?\n",
    "            我認為假如資料集仍然是股市的資料的話，可能還是LogisticRegression會有最佳的結果。\n",
    "- How did you improve your classifiers ?\n",
    "        LogisticRegression的部分，甚麼都沒有做，結果就很好，所以不用做任何調整\n",
    "        KNN的部分，加上weight=distance，使它的結果根據距離產生權重，再稍微增大neighbor，可以使結果微妙性的變好。\n",
    "         neural network的部分，怎麼調都沒有比較好，故也沒有做調整。"
   ]
  },
  {
   "cell_type": "markdown",
   "metadata": {
    "colab_type": "text",
    "id": "gHEmqaVLXIdc"
   },
   "source": [
    "## END"
   ]
  }
 ],
 "metadata": {
  "colab": {
   "name": "main.ipynb",
   "provenance": [],
   "toc_visible": true
  },
  "kernelspec": {
   "display_name": "Python 3",
   "language": "python",
   "name": "python3"
  },
  "language_info": {
   "codemirror_mode": {
    "name": "ipython",
    "version": 3
   },
   "file_extension": ".py",
   "mimetype": "text/x-python",
   "name": "python",
   "nbconvert_exporter": "python",
   "pygments_lexer": "ipython3",
   "version": "3.7.6"
  }
 },
 "nbformat": 4,
 "nbformat_minor": 1
}
